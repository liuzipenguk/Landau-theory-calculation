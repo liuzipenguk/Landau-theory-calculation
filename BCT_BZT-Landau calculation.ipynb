{
 "cells": [
  {
   "cell_type": "code",
   "execution_count": 2,
   "metadata": {
    "collapsed": true
   },
   "outputs": [],
   "source": [
    "#Model from Yuan et al., Adv. Mat. 1702884 (2018).\n",
    "import numpy as np\n",
    "import pandas as pd\n",
    "from mpl_toolkits.mplot3d import Axes3D\n",
    "import matplotlib.pyplot as plt\n",
    "from scipy.optimize import fmin,fminbound\n",
    "from sympy import diff, Symbol,sin\n",
    "%matplotlib inline\n",
    "\n",
    "### matplotlib tutorial-----------------https://blog.csdn.net/baidu_37366272/article/details/80115021?utm_source=blogxgwz5\n",
    "### plot formatting https://blog.csdn.net/skyli114/article/details/77508136"
   ]
  },
  {
   "cell_type": "code",
   "execution_count": 78,
   "metadata": {},
   "outputs": [],
   "source": [
    "##define coefficients of Sn_0\n",
    "def a_1(T):\n",
    "    return 3.02*10**5*(T - 78.3)\n",
    "def a_12(T):\n",
    "    return -1.09*10**6*(T - 78.3) + 221.3\n",
    "\n",
    "a1  = a_1(T)\n",
    "a11 = -2.26*10**8\n",
    "a12 = a_12(T)\n",
    "a111= 3.79*10**9\n",
    "a112= 1.13*10**9 \n",
    "a123= -1.89*10**9"
   ]
  },
  {
   "cell_type": "code",
   "execution_count": 11,
   "metadata": {},
   "outputs": [
    {
     "name": "stdout",
     "output_type": "stream",
     "text": [
      "0\n"
     ]
    }
   ],
   "source": [
    "##define Helmholz energy \n",
    "def F_energy(T):\n",
    "    \n",
    "   return a1*(P1**2+P2**2+P3**2)+a11*(P1**4+P2**4+P3**4)+a12*((P1*P2)**2*(P1*P3)**2+(P2*P3)**2)+a111*(P1**6+P2**6+P3**6)+a112*(P1*(P2**4+P3**4)+P2**2*(P1**4+P3**4)+P3**2*(P1**4+P2**4))+a123*(P1**2*P2**2*P3**2)\n"
   ]
  },
  {
   "cell_type": "code",
   "execution_count": 77,
   "metadata": {},
   "outputs": [
    {
     "data": {
      "text/plain": [
       "Text(0,0.5,'Polarization (uC/cm2)')"
      ]
     },
     "execution_count": 77,
     "metadata": {},
     "output_type": "execute_result"
    },
    {
     "data": {
      "image/png": "[encoded data removed]",
      "text/plain": [
       "<matplotlib.figure.Figure at 0xf034ef0>"
      ]
     },
     "metadata": {},
     "output_type": "display_data"
    }
   ],
   "source": [
    "##define Helmholz energy \n",
    "##define coefficients of Sn_0\n",
    "T = np.arange(50,100, 0.1)\n",
    "\n",
    "def a_1(T):\n",
    "    return 3.02*10**5*(T - 78.3)\n",
    "def a_12(T):\n",
    "    return -1.09*10**6*(T - 78.3) + 221.3\n",
    "a1  = a_1(T)\n",
    "a11 = -2.26*10**8\n",
    "a12 = a_12(T)\n",
    "a111= 3.79*10**9\n",
    "a112= 1.13*10**9 \n",
    "a123= -1.89*10**9\n",
    "\n",
    "## assume Cooling so transition happens in T*##\n",
    "def Polarizaiton(T):\n",
    "    n  = np.size(T)\n",
    "    Ps = np.zeros(n)\n",
    "    for i in range(n):\n",
    "        if T[i]< 78.3:\n",
    "             Ps[i]=((-a11+(a11**2-3*a1[i]*a111)**0.5)/3*a111)**0.5 \n",
    "    return Ps\n",
    "        \n",
    "Ps = Polarizaiton(T)\n",
    "\n",
    "# T phase\n",
    "\n",
    "plt.figure(1)\n",
    "plt.plot(T, Ps)\n",
    "plt.xlabel('Temperature (C)')\n",
    "plt.ylabel('Polarization (uC/cm2)')\n",
    "# plt.xlim[xmin,xmax]\n",
    "# plt.ylim(50,100)"
   ]
  },
  {
   "cell_type": "code",
   "execution_count": 43,
   "metadata": {},
   "outputs": [
    {
     "ename": "IndentationError",
     "evalue": "unindent does not match any outer indentation level (<tokenize>, line 11)",
     "output_type": "error",
     "traceback": [
      "\u001b[1;36m  File \u001b[1;32m\"<tokenize>\"\u001b[1;36m, line \u001b[1;32m11\u001b[0m\n\u001b[1;33m    return a1*(P1**2+P2**2+P3**2)+a11*(P1**4+P2**4+P3**4)+a12*((P1*P2)**2*(P1*P3)**2+(P2*P3)**2)+a111*(P1**6+P2**6+P3**6)+a112*(P1*(P2**4+P3**4)+P2**2*(P1**4+P3**4)+P3**2*(P1**4+P2**4))+a123*(P1**2*P2**2*P3**2)\u001b[0m\n\u001b[1;37m    ^\u001b[0m\n\u001b[1;31mIndentationError\u001b[0m\u001b[1;31m:\u001b[0m unindent does not match any outer indentation level\n"
     ]
    }
   ],
   "source": [
    "T = 89.46\n",
    "i = np.arange(0,0.32, 0.01)\n",
    "P1=0\n",
    "P2=0\n",
    "P3=i\n",
    "def F_energy(P1, P2, P3):\n",
    "    P1=0\n",
    "    P2=0\n",
    "    P3=i\n",
    "    for i in np.arange(0,0.32, 0.01)\n",
    "   return a1*(P1**2+P2**2+P3**2)+a11*(P1**4+P2**4+P3**4)+a12*((P1*P2)**2*(P1*P3)**2+(P2*P3)**2)+a111*(P1**6+P2**6+P3**6)+a112*(P1*(P2**4+P3**4)+P2**2*(P1**4+P3**4)+P3**2*(P1**4+P2**4))+a123*(P1**2*P2**2*P3**2)\n",
    "F_T=F_energy(P1, P2, P3)\n",
    "plt.plot(Ps,F_T)\n",
    "plt.xlim(0,0.3)\n"
   ]
  },
  {
   "cell_type": "code",
   "execution_count": null,
   "metadata": {
    "collapsed": true
   },
   "outputs": [],
   "source": [
    "##dielectric constant\n",
    "def dielectric_T\n",
    "    return 1/(2*(a1 + Ps**4*a112 + Ps**2*a12))"
   ]
  },
  {
   "cell_type": "code",
   "execution_count": null,
   "metadata": {
    "collapsed": true
   },
   "outputs": [],
   "source": [
    "##dS(T)@E"
   ]
  }
 ],
 "metadata": {
  "kernelspec": {
   "display_name": "Python 3",
   "language": "python",
   "name": "python3"
  },
  "language_info": {
   "codemirror_mode": {
    "name": "ipython",
    "version": 3
   },
   "file_extension": ".py",
   "mimetype": "text/x-python",
   "name": "python",
   "nbconvert_exporter": "python",
   "pygments_lexer": "ipython3",
   "version": "3.6.3"
  }
 },
 "nbformat": 4,
 "nbformat_minor": 2
}
